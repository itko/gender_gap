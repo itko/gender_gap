{
 "cells": [
  {
   "cell_type": "code",
   "execution_count": 1,
   "metadata": {},
   "outputs": [],
   "source": [
    "import pandas as pd\n",
    "import numpy as np\n",
    "from matplotlib import pyplot as plt\n",
    "import seaborn as sns\n",
    "from scipy import stats\n",
    "from gender_guesser import detector"
   ]
  },
  {
   "cell_type": "code",
   "execution_count": 2,
   "metadata": {},
   "outputs": [],
   "source": [
    "gender = detector.Detector(case_sensitive=False)"
   ]
  },
  {
   "cell_type": "code",
   "execution_count": 3,
   "metadata": {},
   "outputs": [],
   "source": [
    "years = []\n",
    "for year in range(1996,2018):\n",
    "    if year == 1996:\n",
    "        continue\n",
    "    try:\n",
    "        yearStr = str(year)\n",
    "        columns = [\n",
    "            'Sector',\n",
    "            'LastName',\n",
    "            'FirstName',\n",
    "            'Salary',\n",
    "            'TaxableBenefits',\n",
    "            'Employer',\n",
    "            'JobTitle',\n",
    "            'CalendarYear'\n",
    "        ]\n",
    "        df = pd.read_csv(\n",
    "            'data/ontario/'+yearStr + '.csv',\n",
    "            encoding='latin-1',\n",
    "            names=columns,\n",
    "            skiprows=1\n",
    "        )\n",
    "        # Fix the calendar year\n",
    "        df.CalendarYear = year\n",
    "        df.Salary = df.Salary.replace('[\\$,]', '', regex=True).astype(float)\n",
    "        years.append(df)\n",
    "    except FileNotFoundError:\n",
    "        print('Did not find: ' + str(year) + '.csv')\n",
    "df = pd.concat(years,ignore_index=True)"
   ]
  },
  {
   "cell_type": "code",
   "execution_count": 4,
   "metadata": {},
   "outputs": [
    {
     "data": {
      "text/html": [
       "<div>\n",
       "<style scoped>\n",
       "    .dataframe tbody tr th:only-of-type {\n",
       "        vertical-align: middle;\n",
       "    }\n",
       "\n",
       "    .dataframe tbody tr th {\n",
       "        vertical-align: top;\n",
       "    }\n",
       "\n",
       "    .dataframe thead th {\n",
       "        text-align: right;\n",
       "    }\n",
       "</style>\n",
       "<table border=\"1\" class=\"dataframe\">\n",
       "  <thead>\n",
       "    <tr style=\"text-align: right;\">\n",
       "      <th></th>\n",
       "      <th>Sector</th>\n",
       "      <th>LastName</th>\n",
       "      <th>FirstName</th>\n",
       "      <th>Salary</th>\n",
       "      <th>TaxableBenefits</th>\n",
       "      <th>Employer</th>\n",
       "      <th>JobTitle</th>\n",
       "      <th>CalendarYear</th>\n",
       "    </tr>\n",
       "  </thead>\n",
       "  <tbody>\n",
       "    <tr>\n",
       "      <th>0</th>\n",
       "      <td>Colleges</td>\n",
       "      <td>Gillett</td>\n",
       "      <td>Robert</td>\n",
       "      <td>126843.08</td>\n",
       "      <td>$15,237.07</td>\n",
       "      <td>Algonquin</td>\n",
       "      <td>President</td>\n",
       "      <td>1997</td>\n",
       "    </tr>\n",
       "    <tr>\n",
       "      <th>1</th>\n",
       "      <td>Colleges</td>\n",
       "      <td>Hanson</td>\n",
       "      <td>Raymonde</td>\n",
       "      <td>102604.32</td>\n",
       "      <td>$5,502.22</td>\n",
       "      <td>Algonquin</td>\n",
       "      <td>V.P., Academic</td>\n",
       "      <td>1997</td>\n",
       "    </tr>\n",
       "    <tr>\n",
       "      <th>2</th>\n",
       "      <td>Colleges</td>\n",
       "      <td>Mitchelson</td>\n",
       "      <td>Robert</td>\n",
       "      <td>106199.60</td>\n",
       "      <td>$5,528.80</td>\n",
       "      <td>Algonquin</td>\n",
       "      <td>V.P., Finance &amp; Administration</td>\n",
       "      <td>1997</td>\n",
       "    </tr>\n",
       "    <tr>\n",
       "      <th>3</th>\n",
       "      <td>Colleges</td>\n",
       "      <td>Crombie</td>\n",
       "      <td>Glenn</td>\n",
       "      <td>115811.32</td>\n",
       "      <td>$2,995.34</td>\n",
       "      <td>Cambrian</td>\n",
       "      <td>President</td>\n",
       "      <td>1997</td>\n",
       "    </tr>\n",
       "    <tr>\n",
       "      <th>4</th>\n",
       "      <td>Colleges</td>\n",
       "      <td>Henderson</td>\n",
       "      <td>Catherine</td>\n",
       "      <td>127313.00</td>\n",
       "      <td>$19,034.97</td>\n",
       "      <td>Centennial College</td>\n",
       "      <td>President</td>\n",
       "      <td>1997</td>\n",
       "    </tr>\n",
       "  </tbody>\n",
       "</table>\n",
       "</div>"
      ],
      "text/plain": [
       "     Sector    LastName  FirstName     Salary TaxableBenefits  \\\n",
       "0  Colleges     Gillett     Robert  126843.08     $15,237.07    \n",
       "1  Colleges      Hanson   Raymonde  102604.32      $5,502.22    \n",
       "2  Colleges  Mitchelson     Robert  106199.60      $5,528.80    \n",
       "3  Colleges     Crombie      Glenn  115811.32      $2,995.34    \n",
       "4  Colleges   Henderson  Catherine  127313.00     $19,034.97    \n",
       "\n",
       "             Employer                        JobTitle  CalendarYear  \n",
       "0           Algonquin                       President          1997  \n",
       "1           Algonquin                  V.P., Academic          1997  \n",
       "2           Algonquin  V.P., Finance & Administration          1997  \n",
       "3            Cambrian                       President          1997  \n",
       "4  Centennial College                       President          1997  "
      ]
     },
     "execution_count": 4,
     "metadata": {},
     "output_type": "execute_result"
    }
   ],
   "source": [
    "df.head()"
   ]
  },
  {
   "cell_type": "markdown",
   "metadata": {},
   "source": [
    "Drop any empty data"
   ]
  },
  {
   "cell_type": "code",
   "execution_count": 5,
   "metadata": {},
   "outputs": [],
   "source": [
    "df.dropna(subset=['FirstName','LastName','Sector'],inplace=True)"
   ]
  },
  {
   "cell_type": "markdown",
   "metadata": {},
   "source": [
    "If we have any duplicates, get rid of both of them. We can't handle duplicates."
   ]
  },
  {
   "cell_type": "code",
   "execution_count": 6,
   "metadata": {},
   "outputs": [],
   "source": [
    "# Remove all duplicates so we don't have to deal with them later\n",
    "df.drop_duplicates(subset = ['LastName', 'FirstName', 'Sector', 'CalendarYear'], keep=False, inplace=True)"
   ]
  },
  {
   "cell_type": "markdown",
   "metadata": {},
   "source": [
    "Give an id to each unique First + Last + Sector"
   ]
  },
  {
   "cell_type": "code",
   "execution_count": 7,
   "metadata": {},
   "outputs": [],
   "source": [
    "df['id'] = df.FirstName + df.LastName + df.Sector"
   ]
  },
  {
   "cell_type": "code",
   "execution_count": 10,
   "metadata": {},
   "outputs": [],
   "source": [
    "np.random.seed(0)\n",
    "sample = df.loc[df.id.isin(np.random.choice(df.id.unique(),df.id.nunique(),False))].copy()"
   ]
  },
  {
   "cell_type": "markdown",
   "metadata": {},
   "source": [
    "Get the year of each worker salary"
   ]
  },
  {
   "cell_type": "code",
   "execution_count": 11,
   "metadata": {},
   "outputs": [],
   "source": [
    "sample.set_index('id',inplace=True)"
   ]
  },
  {
   "cell_type": "code",
   "execution_count": 12,
   "metadata": {},
   "outputs": [],
   "source": [
    "sample['startYear'] = sample.groupby(sample.index).CalendarYear.min()"
   ]
  },
  {
   "cell_type": "code",
   "execution_count": 13,
   "metadata": {},
   "outputs": [],
   "source": [
    "sample['year'] = sample.CalendarYear - sample.startYear"
   ]
  },
  {
   "cell_type": "markdown",
   "metadata": {},
   "source": [
    "Get the gender of each worker"
   ]
  },
  {
   "cell_type": "code",
   "execution_count": 14,
   "metadata": {},
   "outputs": [],
   "source": [
    "sample['gender'] = sample.FirstName.apply(gender.get_gender)"
   ]
  },
  {
   "cell_type": "code",
   "execution_count": 15,
   "metadata": {},
   "outputs": [],
   "source": [
    "sample.gender.value_counts(normalize=True)\n",
    "# Keep only confident guesses\n",
    "sample = sample.loc[sample.gender.isin(['male','female'])]"
   ]
  },
  {
   "cell_type": "markdown",
   "metadata": {},
   "source": [
    "Remove small group sizes"
   ]
  },
  {
   "cell_type": "code",
   "execution_count": 16,
   "metadata": {},
   "outputs": [],
   "source": [
    "sample = sample.groupby(['gender','year']).filter(lambda x: len(x) >= 30)"
   ]
  },
  {
   "cell_type": "code",
   "execution_count": 17,
   "metadata": {},
   "outputs": [],
   "source": [
    "ppp = pd.read_csv(\n",
    "    './data/ppp.csv',\n",
    "    usecols=['LOCATION','TIME','Value']\n",
    ")\n",
    "ppp.columns = ['location','year','value']\n",
    "ppp = ppp.loc[ppp.location == 'CAN'].copy()\n",
    "ppp.drop('location',axis=1,inplace=True)\n",
    "ppp.set_index('year',drop=True,inplace=True)"
   ]
  },
  {
   "cell_type": "code",
   "execution_count": 18,
   "metadata": {},
   "outputs": [],
   "source": [
    "cpi = pd.read_csv('./data/cpi.csv',names=['year','value'])\n",
    "cpi.value /= 100\n",
    "cpi.set_index('year',inplace=True)"
   ]
  },
  {
   "cell_type": "code",
   "execution_count": 19,
   "metadata": {},
   "outputs": [],
   "source": [
    "sample['ppp'] = sample.CalendarYear.map(ppp.value)\n",
    "sample = sample.loc[sample.ppp.notna()].copy()"
   ]
  },
  {
   "cell_type": "code",
   "execution_count": 20,
   "metadata": {},
   "outputs": [],
   "source": [
    "sample['cpi'] = sample.CalendarYear.map(cpi.value/100)"
   ]
  },
  {
   "cell_type": "code",
   "execution_count": 21,
   "metadata": {},
   "outputs": [],
   "source": [
    "sample['salary_ppp'] = sample.Salary / sample.ppp\n",
    "sample['salary_cpi'] = sample.Salary / sample.cpi"
   ]
  },
  {
   "cell_type": "code",
   "execution_count": 22,
   "metadata": {},
   "outputs": [],
   "source": [
    "sample['startSalary'] = sample.loc[sample.year == 0, 'salary_ppp']\n",
    "sample['currSalary'] = sample.salary_ppp / sample.startSalary\n",
    "sample['pct2'] = sample.salary_cpi / sample.startSalary"
   ]
  },
  {
   "cell_type": "code",
   "execution_count": 43,
   "metadata": {},
   "outputs": [
    {
     "data": {
      "image/png": "[encoded data removed]",
      "text/plain": [
       "<Figure size 1080x360 with 1 Axes>"
      ]
     },
     "metadata": {
      "needs_background": "light"
     },
     "output_type": "display_data"
    }
   ],
   "source": [
    "f,ax = plt.subplots(1,1,figsize=(15,5))\n",
    "ax.grid()\n",
    "sns.barplot(\n",
    "    sample.year,\n",
    "    sample.salary_ppp,\n",
    "    hue=sample.gender,\n",
    "    palette = ['lightblue','pink'],\n",
    "    alpha = 1,\n",
    "    ax=ax\n",
    ")\n",
    "ax.set_xlim((-0.5,13.5))\n",
    "ax.set_ylabel('Salary ($ PPP)')\n",
    "ax.set_xlabel('Years of experience')\n",
    "ax.legend(title='Gender',handles=ax.get_legend_handles_labels()[0],labels=['Male','Female'])\n",
    "\n",
    "f.savefig('./images/salary.png',dpi=200)"
   ]
  },
  {
   "cell_type": "code",
   "execution_count": 72,
   "metadata": {},
   "outputs": [
    {
     "data": {
      "text/plain": [
       "year  gender\n",
       "0     male      0.614065\n",
       "      female    0.385935\n",
       "1     male      0.620589\n",
       "      female    0.379411\n",
       "2     male      0.634887\n",
       "      female    0.365113\n",
       "3     male      0.643732\n",
       "      female    0.356268\n",
       "4     male      0.674567\n",
       "      female    0.325433\n",
       "5     male      0.704330\n",
       "      female    0.295670\n",
       "6     male      0.720949\n",
       "      female    0.279051\n",
       "7     male      0.737972\n",
       "      female    0.262028\n",
       "8     male      0.757984\n",
       "      female    0.242016\n",
       "9     male      0.775843\n",
       "      female    0.224157\n",
       "10    male      0.800625\n",
       "      female    0.199375\n",
       "11    male      0.852134\n",
       "      female    0.147866\n",
       "12    male      0.785425\n",
       "      female    0.214575\n",
       "13    male      1.000000\n",
       "14    male      1.000000\n",
       "15    male      1.000000\n",
       "Name: gender, dtype: float64"
      ]
     },
     "execution_count": 72,
     "metadata": {},
     "output_type": "execute_result"
    }
   ],
   "source": [
    "sample.groupby(['year']).gender.value_counts(normalize=True)"
   ]
  },
  {
   "cell_type": "code",
   "execution_count": 91,
   "metadata": {},
   "outputs": [
    {
     "data": {
      "image/png": "[encoded data removed]",
      "text/plain": [
       "<Figure size 1080x360 with 1 Axes>"
      ]
     },
     "metadata": {
      "needs_background": "light"
     },
     "output_type": "display_data"
    }
   ],
   "source": [
    "data = sample.groupby(['year']).gender.value_counts(normalize=True).unstack()\n",
    "\n",
    "f,ax = plt.subplots(1,1,figsize=(15,5))\n",
    "data.plot.bar(stacked=True,color=['pink','lightblue'],ax=ax)\n",
    "ax.set_xlim((-0.5,13.5))\n",
    "ax.set_ylabel('Percentage of workers')\n",
    "ax.set_xlabel('Years of experience')\n",
    "plt.xticks(rotation=0)\n",
    "ax.legend(title='Gender',handles=ax.get_legend_handles_labels()[0],labels=['Female','Male'])\n",
    "ax.set_yticklabels(range(0,120,20))\n",
    "ax.grid(axis='y')\n",
    "\n",
    "f.savefig('./images/proportion.png',dpi=200)"
   ]
  }
 ],
 "metadata": {
  "kernelspec": {
   "display_name": "Python 3",
   "language": "python",
   "name": "python3"
  },
  "language_info": {
   "codemirror_mode": {
    "name": "ipython",
    "version": 3
   },
   "file_extension": ".py",
   "mimetype": "text/x-python",
   "name": "python",
   "nbconvert_exporter": "python",
   "pygments_lexer": "ipython3",
   "version": "3.7.4"
  }
 },
 "nbformat": 4,
 "nbformat_minor": 2
}
